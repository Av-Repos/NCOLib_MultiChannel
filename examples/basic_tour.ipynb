{
 "cells": [
  {
   "cell_type": "code",
   "id": "initial_id",
   "metadata": {
    "collapsed": true,
    "jupyter": {
     "is_executing": true
    }
   },
   "source": [
    "import sys\n",
    "import os\n",
    "\n",
    "sys.path.insert(0, os.path.abspath('.'))\n",
    "\n",
    "import random\n",
    "from typing import Tuple\n",
    "import torch\n",
    "import torch.nn.functional as F\n",
    "\n",
    "from nco_lib.environment.actions import two_opt, bit_flip, insert, swap\n",
    "from nco_lib.environment.env import State, Env, ConstructiveStoppingCriteria, ConstructiveReward, ImprovementReward, ImprovementStoppingCriteria\n",
    "from nco_lib.environment.problem_def import ConstructiveProblem, ImprovementProblem\n",
    "from nco_lib.models.graph_transformer import GTModel, EdgeInGTModel, EdgeInOutGTModel\n",
    "from nco_lib.data.data_loader import generate_random_graph\n",
    "from nco_lib.trainer.trainer import ConstructiveTrainer, ImprovementTrainer\n",
    "\n",
    "device = torch.device('cuda' if torch.cuda.is_available() else 'cpu')"
   ],
   "outputs": [],
   "execution_count": null
  },
  {
   "metadata": {},
   "cell_type": "markdown",
   "source": [
    "### Simple Tutorial\n",
    "We will show how to use the library to solve combinatorial optimization problems using reinforcement learning.\n",
    "\n",
    "First, we define the problem by inheriting from the ConstructiveProblem or ImprovementProblem class. We need to implement the following methods:\n",
    "- **_init_instances**: Initialize the problem instances (graphs).\n",
    "- **_init_solutions**: Initialize the solutions (to empty solutions if we are using a constructive method or to a complete solution if we are using an improvement method).\n",
    "- **_init_features**: Initialize the node- and edge-features.\n",
    "- **_init_mask** (optional): Initialize the mask, to mask certain actions. Only if it is required by the problem constraints.\n",
    "- **_obj_function**: Compute the objective function value.\n",
    "- **_update_features**: Update the node features based on the selected action.\n",
    "- **_update_solutions**: Update the solutions based on the selected action.\n",
    "- **_update_mask** (optional): Update the mask based on the selected action in previous step.\n",
    "- **_check_completeness**: Check if the solution is complete. This function is required for constructive problems to check if the solution, and therefore the episode, is completed.\n",
    "\n",
    "The State class is used to store the problem instances, solutions, features, mask, and other useful information such as the device and batch size. The user can add any other data that is required for the problem definition in the state.data dictionary."
   ],
   "id": "4e1f6fa6ab27d3ae"
  },
  {
   "metadata": {},
   "cell_type": "markdown",
   "source": [
    "### Constructive Problem\n",
    "The following image represents the pipeline followed in a constructive problem: \n",
    "- First the instances, solutions, features, and mask are initialized and fed to the model in the state. \n",
    "- Then, the model predicts the actions based on the state. \n",
    "- The actions are used to update the solutions, features, and mask. \n",
    "- The objective function is computed based on the updated solutions and is used to compute the reward given to the model in order to update its weights. \n",
    "- The process is repeated until the episode is completed.\n",
    "\n",
    "<p style=\"text-align: center;\">\n",
    "    <img src=\"../docs/constructive_pipeline.png\" alt=\"Constructive Pipeline\" title=\"Constructive Pipeline\"/>\n",
    "</p>"
   ],
   "id": "87fb710fea25bed1"
  },
  {
   "metadata": {},
   "cell_type": "markdown",
   "source": "Here is an example of a dummy constructive problem:",
   "id": "83cf815fce65049b"
  },
  {
   "metadata": {
    "jupyter": {
     "is_executing": true
    }
   },
   "cell_type": "code",
   "source": [
    "# 1) Define the constructive problem\n",
    "class SimpleConstructiveProblem(ConstructiveProblem):\n",
    "    def _init_instances(self, state: State) -> State:\n",
    "        # Here you need to initialize the problem instances (graphs) and any other data required for computing the objective value, calculating the mask or checking completeness\n",
    "        # The state class already has the batch size, the problem size, random seed and used device in here, so you can use them to initialize the instances\n",
    "        \n",
    "        # You can create the adjacency matrix randomly by using the generate_random_graph function\n",
    "        state.adj_matrix = generate_random_graph(state.batch_size, state.problem_size, state.seed, edge_prob=0.15, device=state.device)\n",
    "        \n",
    "        # You can also add any other useful information in the state.data dictionary\n",
    "        state.data['useful_info'] = torch.rand(state.batch_size, state.problem_size, state.problem_size, device=state.device)\n",
    "        \n",
    "        # Return the state, do not change this\n",
    "        return state\n",
    "\n",
    "    def _init_solutions(self, state: State) -> State:\n",
    "        # Initialize the solutions, in constructive problems the solutions are initialized to empty solutions.\n",
    "        # Remember to use state.batch_size, state.problem_size and state.device to initialize the solutions\n",
    "        state.solutions = torch.zeros((state.batch_size, state.problem_size), device=state.device)\n",
    "        return state\n",
    "\n",
    "    def _init_features(self, state: State) -> State:\n",
    "        # Initialize the node features, these can be computed based on state.data, state.solutions and state.adj_matrix. Dummy example:\n",
    "        state.node_features = state.data['useful_info'] + state.adj_matrix.sum(2, keepdim=True) + state.solutions\n",
    "        return state\n",
    "\n",
    "    def _init_mask(self, state: State) -> State:\n",
    "        # Initialize the mask. This is optional, only if the problem requires masking certain actions. \n",
    "        # Otherwise, you can return state or the following code, which initializes the mask to zeros:\n",
    "        state.mask = torch.zeros((state.batch_size, state.problem_size, 1), device=state.device)\n",
    "        return state\n",
    "\n",
    "    def _obj_function(self, state: State) -> torch.Tensor:\n",
    "        # Compute the objective function. This is used to compute the reward for the model. \n",
    "        # Here you can also use state.data, state.solutions and state.adj_matrix. \n",
    "        # This is the only function that do not return a state. \n",
    "        # Instead, it returns the objective function values for each instance in the batch in a tensor.\n",
    "        return state.solutions.sum(1)\n",
    "\n",
    "    def _update_features(self, state: State) -> State:\n",
    "        # Update the node features, is this is equal to the _init_features method, then you can call it directly by returning self._init_features(state)\n",
    "        return self._init_features(state)\n",
    "\n",
    "    def _update_solutions(self, state: State, action: torch.Tensor) -> State:\n",
    "        # Update the solutions using the action predicted by the model\n",
    "        # In node-based constructive problems, the action is the node index to be selected, so the action is a tensor of shape (batch_size, n_classes), where n_classes is the number of output classes.\n",
    "        # In edge-based constructive problems, the action is the edge index to be selected, so the action is a tensor of shape (batch_size, n_classes, 2), where n_classes is the number of output classes.\n",
    "        state.solutions = state.solutions + action\n",
    "        return state\n",
    "\n",
    "    def _update_mask(self, state: State, action: torch.Tensor) -> State:\n",
    "        # Update the mask. In constructive problems, each node is selected just once, so you can mask the selected nodes. \n",
    "        # Remember to mask it with -inf.\n",
    "        batch_range = torch.arange(state.batch_size, device=state.device)\n",
    "        state.mask[batch_range, action, :] = float('-inf')\n",
    "        return state\n",
    "\n",
    "    def _check_completeness(self, state: State) -> State:\n",
    "        # Check if the solution is complete. \n",
    "        # This is required for constructive problems to check if the solution, and therefore the episode, is completed.\n",
    "        # In improvement methods, if all the steps are completed, then you can set state.is_complete = True.\n",
    "        state.is_complete = (state.solutions == 0).sum() == 0\n",
    "        # state.is_complete = True  # Uncomment this line if the solution is complete in every step.\n",
    "        return state"
   ],
   "id": "df5a330a02fb1201",
   "outputs": [],
   "execution_count": null
  }
 ],
 "metadata": {
  "kernelspec": {
   "display_name": "Python 3",
   "language": "python",
   "name": "python3"
  },
  "language_info": {
   "codemirror_mode": {
    "name": "ipython",
    "version": 2
   },
   "file_extension": ".py",
   "mimetype": "text/x-python",
   "name": "python",
   "nbconvert_exporter": "python",
   "pygments_lexer": "ipython2",
   "version": "2.7.6"
  }
 },
 "nbformat": 4,
 "nbformat_minor": 5
}
